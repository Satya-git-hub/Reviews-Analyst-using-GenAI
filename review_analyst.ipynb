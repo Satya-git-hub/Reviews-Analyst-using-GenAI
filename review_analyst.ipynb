{
  "nbformat": 4,
  "nbformat_minor": 0,
  "metadata": {
    "colab": {
      "provenance": []
    },
    "kernelspec": {
      "name": "python3",
      "display_name": "Python 3"
    },
    "language_info": {
      "name": "python"
    }
  },
  "cells": [
    {
      "cell_type": "markdown",
      "source": [
        "# Review Analyst"
      ],
      "metadata": {
        "id": "0O1zhd9qkiLZ"
      }
    },
    {
      "cell_type": "code",
      "execution_count": 2,
      "metadata": {
        "colab": {
          "base_uri": "https://localhost:8080/"
        },
        "collapsed": true,
        "id": "B7XQL2fyjEWi",
        "outputId": "b4851f38-586a-4feb-aaa9-bf2ad982875f"
      },
      "outputs": [
        {
          "output_type": "stream",
          "name": "stdout",
          "text": [
            "Collecting langchain==0.1.19\n",
            "  Downloading langchain-0.1.19-py3-none-any.whl.metadata (13 kB)\n",
            "Requirement already satisfied: PyYAML>=5.3 in /usr/local/lib/python3.11/dist-packages (from langchain==0.1.19) (6.0.2)\n",
            "Requirement already satisfied: SQLAlchemy<3,>=1.4 in /usr/local/lib/python3.11/dist-packages (from langchain==0.1.19) (2.0.39)\n",
            "Requirement already satisfied: aiohttp<4.0.0,>=3.8.3 in /usr/local/lib/python3.11/dist-packages (from langchain==0.1.19) (3.11.14)\n",
            "Collecting dataclasses-json<0.7,>=0.5.7 (from langchain==0.1.19)\n",
            "  Downloading dataclasses_json-0.6.7-py3-none-any.whl.metadata (25 kB)\n",
            "Collecting langchain-community<0.1,>=0.0.38 (from langchain==0.1.19)\n",
            "  Downloading langchain_community-0.0.38-py3-none-any.whl.metadata (8.7 kB)\n",
            "Collecting langchain-core<0.2.0,>=0.1.52 (from langchain==0.1.19)\n",
            "  Downloading langchain_core-0.1.53-py3-none-any.whl.metadata (5.9 kB)\n",
            "Collecting langchain-text-splitters<0.1,>=0.0.1 (from langchain==0.1.19)\n",
            "  Downloading langchain_text_splitters-0.0.2-py3-none-any.whl.metadata (2.2 kB)\n",
            "Collecting langsmith<0.2.0,>=0.1.17 (from langchain==0.1.19)\n",
            "  Downloading langsmith-0.1.147-py3-none-any.whl.metadata (14 kB)\n",
            "Collecting numpy<2,>=1 (from langchain==0.1.19)\n",
            "  Downloading numpy-1.26.4-cp311-cp311-manylinux_2_17_x86_64.manylinux2014_x86_64.whl.metadata (61 kB)\n",
            "\u001b[2K     \u001b[90m━━━━━━━━━━━━━━━━━━━━━━━━━━━━━━━━━━━━━━━━\u001b[0m \u001b[32m61.0/61.0 kB\u001b[0m \u001b[31m2.9 MB/s\u001b[0m eta \u001b[36m0:00:00\u001b[0m\n",
            "\u001b[?25hRequirement already satisfied: pydantic<3,>=1 in /usr/local/lib/python3.11/dist-packages (from langchain==0.1.19) (2.10.6)\n",
            "Requirement already satisfied: requests<3,>=2 in /usr/local/lib/python3.11/dist-packages (from langchain==0.1.19) (2.32.3)\n",
            "Collecting tenacity<9.0.0,>=8.1.0 (from langchain==0.1.19)\n",
            "  Downloading tenacity-8.5.0-py3-none-any.whl.metadata (1.2 kB)\n",
            "Requirement already satisfied: aiohappyeyeballs>=2.3.0 in /usr/local/lib/python3.11/dist-packages (from aiohttp<4.0.0,>=3.8.3->langchain==0.1.19) (2.6.1)\n",
            "Requirement already satisfied: aiosignal>=1.1.2 in /usr/local/lib/python3.11/dist-packages (from aiohttp<4.0.0,>=3.8.3->langchain==0.1.19) (1.3.2)\n",
            "Requirement already satisfied: attrs>=17.3.0 in /usr/local/lib/python3.11/dist-packages (from aiohttp<4.0.0,>=3.8.3->langchain==0.1.19) (25.3.0)\n",
            "Requirement already satisfied: frozenlist>=1.1.1 in /usr/local/lib/python3.11/dist-packages (from aiohttp<4.0.0,>=3.8.3->langchain==0.1.19) (1.5.0)\n",
            "Requirement already satisfied: multidict<7.0,>=4.5 in /usr/local/lib/python3.11/dist-packages (from aiohttp<4.0.0,>=3.8.3->langchain==0.1.19) (6.2.0)\n",
            "Requirement already satisfied: propcache>=0.2.0 in /usr/local/lib/python3.11/dist-packages (from aiohttp<4.0.0,>=3.8.3->langchain==0.1.19) (0.3.0)\n",
            "Requirement already satisfied: yarl<2.0,>=1.17.0 in /usr/local/lib/python3.11/dist-packages (from aiohttp<4.0.0,>=3.8.3->langchain==0.1.19) (1.18.3)\n",
            "Collecting marshmallow<4.0.0,>=3.18.0 (from dataclasses-json<0.7,>=0.5.7->langchain==0.1.19)\n",
            "  Downloading marshmallow-3.26.1-py3-none-any.whl.metadata (7.3 kB)\n",
            "Collecting typing-inspect<1,>=0.4.0 (from dataclasses-json<0.7,>=0.5.7->langchain==0.1.19)\n",
            "  Downloading typing_inspect-0.9.0-py3-none-any.whl.metadata (1.5 kB)\n",
            "Requirement already satisfied: jsonpatch<2.0,>=1.33 in /usr/local/lib/python3.11/dist-packages (from langchain-core<0.2.0,>=0.1.52->langchain==0.1.19) (1.33)\n",
            "Collecting packaging<24.0,>=23.2 (from langchain-core<0.2.0,>=0.1.52->langchain==0.1.19)\n",
            "  Downloading packaging-23.2-py3-none-any.whl.metadata (3.2 kB)\n",
            "Requirement already satisfied: httpx<1,>=0.23.0 in /usr/local/lib/python3.11/dist-packages (from langsmith<0.2.0,>=0.1.17->langchain==0.1.19) (0.28.1)\n",
            "Requirement already satisfied: orjson<4.0.0,>=3.9.14 in /usr/local/lib/python3.11/dist-packages (from langsmith<0.2.0,>=0.1.17->langchain==0.1.19) (3.10.15)\n",
            "Requirement already satisfied: requests-toolbelt<2.0.0,>=1.0.0 in /usr/local/lib/python3.11/dist-packages (from langsmith<0.2.0,>=0.1.17->langchain==0.1.19) (1.0.0)\n",
            "Requirement already satisfied: annotated-types>=0.6.0 in /usr/local/lib/python3.11/dist-packages (from pydantic<3,>=1->langchain==0.1.19) (0.7.0)\n",
            "Requirement already satisfied: pydantic-core==2.27.2 in /usr/local/lib/python3.11/dist-packages (from pydantic<3,>=1->langchain==0.1.19) (2.27.2)\n",
            "Requirement already satisfied: typing-extensions>=4.12.2 in /usr/local/lib/python3.11/dist-packages (from pydantic<3,>=1->langchain==0.1.19) (4.12.2)\n",
            "Requirement already satisfied: charset-normalizer<4,>=2 in /usr/local/lib/python3.11/dist-packages (from requests<3,>=2->langchain==0.1.19) (3.4.1)\n",
            "Requirement already satisfied: idna<4,>=2.5 in /usr/local/lib/python3.11/dist-packages (from requests<3,>=2->langchain==0.1.19) (3.10)\n",
            "Requirement already satisfied: urllib3<3,>=1.21.1 in /usr/local/lib/python3.11/dist-packages (from requests<3,>=2->langchain==0.1.19) (2.3.0)\n",
            "Requirement already satisfied: certifi>=2017.4.17 in /usr/local/lib/python3.11/dist-packages (from requests<3,>=2->langchain==0.1.19) (2025.1.31)\n",
            "Requirement already satisfied: greenlet!=0.4.17 in /usr/local/lib/python3.11/dist-packages (from SQLAlchemy<3,>=1.4->langchain==0.1.19) (3.1.1)\n",
            "Requirement already satisfied: anyio in /usr/local/lib/python3.11/dist-packages (from httpx<1,>=0.23.0->langsmith<0.2.0,>=0.1.17->langchain==0.1.19) (4.9.0)\n",
            "Requirement already satisfied: httpcore==1.* in /usr/local/lib/python3.11/dist-packages (from httpx<1,>=0.23.0->langsmith<0.2.0,>=0.1.17->langchain==0.1.19) (1.0.7)\n",
            "Requirement already satisfied: h11<0.15,>=0.13 in /usr/local/lib/python3.11/dist-packages (from httpcore==1.*->httpx<1,>=0.23.0->langsmith<0.2.0,>=0.1.17->langchain==0.1.19) (0.14.0)\n",
            "Requirement already satisfied: jsonpointer>=1.9 in /usr/local/lib/python3.11/dist-packages (from jsonpatch<2.0,>=1.33->langchain-core<0.2.0,>=0.1.52->langchain==0.1.19) (3.0.0)\n",
            "Collecting mypy-extensions>=0.3.0 (from typing-inspect<1,>=0.4.0->dataclasses-json<0.7,>=0.5.7->langchain==0.1.19)\n",
            "  Downloading mypy_extensions-1.0.0-py3-none-any.whl.metadata (1.1 kB)\n",
            "Requirement already satisfied: sniffio>=1.1 in /usr/local/lib/python3.11/dist-packages (from anyio->httpx<1,>=0.23.0->langsmith<0.2.0,>=0.1.17->langchain==0.1.19) (1.3.1)\n",
            "Downloading langchain-0.1.19-py3-none-any.whl (1.0 MB)\n",
            "\u001b[2K   \u001b[90m━━━━━━━━━━━━━━━━━━━━━━━━━━━━━━━━━━━━━━━━\u001b[0m \u001b[32m1.0/1.0 MB\u001b[0m \u001b[31m17.2 MB/s\u001b[0m eta \u001b[36m0:00:00\u001b[0m\n",
            "\u001b[?25hDownloading dataclasses_json-0.6.7-py3-none-any.whl (28 kB)\n",
            "Downloading langchain_community-0.0.38-py3-none-any.whl (2.0 MB)\n",
            "\u001b[2K   \u001b[90m━━━━━━━━━━━━━━━━━━━━━━━━━━━━━━━━━━━━━━━━\u001b[0m \u001b[32m2.0/2.0 MB\u001b[0m \u001b[31m36.4 MB/s\u001b[0m eta \u001b[36m0:00:00\u001b[0m\n",
            "\u001b[?25hDownloading langchain_core-0.1.53-py3-none-any.whl (303 kB)\n",
            "\u001b[2K   \u001b[90m━━━━━━━━━━━━━━━━━━━━━━━━━━━━━━━━━━━━━━━━\u001b[0m \u001b[32m303.1/303.1 kB\u001b[0m \u001b[31m18.8 MB/s\u001b[0m eta \u001b[36m0:00:00\u001b[0m\n",
            "\u001b[?25hDownloading langchain_text_splitters-0.0.2-py3-none-any.whl (23 kB)\n",
            "Downloading langsmith-0.1.147-py3-none-any.whl (311 kB)\n",
            "\u001b[2K   \u001b[90m━━━━━━━━━━━━━━━━━━━━━━━━━━━━━━━━━━━━━━━━\u001b[0m \u001b[32m311.8/311.8 kB\u001b[0m \u001b[31m16.7 MB/s\u001b[0m eta \u001b[36m0:00:00\u001b[0m\n",
            "\u001b[?25hDownloading numpy-1.26.4-cp311-cp311-manylinux_2_17_x86_64.manylinux2014_x86_64.whl (18.3 MB)\n",
            "\u001b[2K   \u001b[90m━━━━━━━━━━━━━━━━━━━━━━━━━━━━━━━━━━━━━━━━\u001b[0m \u001b[32m18.3/18.3 MB\u001b[0m \u001b[31m38.9 MB/s\u001b[0m eta \u001b[36m0:00:00\u001b[0m\n",
            "\u001b[?25hDownloading tenacity-8.5.0-py3-none-any.whl (28 kB)\n",
            "Downloading marshmallow-3.26.1-py3-none-any.whl (50 kB)\n",
            "\u001b[2K   \u001b[90m━━━━━━━━━━━━━━━━━━━━━━━━━━━━━━━━━━━━━━━━\u001b[0m \u001b[32m50.9/50.9 kB\u001b[0m \u001b[31m3.0 MB/s\u001b[0m eta \u001b[36m0:00:00\u001b[0m\n",
            "\u001b[?25hDownloading packaging-23.2-py3-none-any.whl (53 kB)\n",
            "\u001b[2K   \u001b[90m━━━━━━━━━━━━━━━━━━━━━━━━━━━━━━━━━━━━━━━━\u001b[0m \u001b[32m53.0/53.0 kB\u001b[0m \u001b[31m3.2 MB/s\u001b[0m eta \u001b[36m0:00:00\u001b[0m\n",
            "\u001b[?25hDownloading typing_inspect-0.9.0-py3-none-any.whl (8.8 kB)\n",
            "Downloading mypy_extensions-1.0.0-py3-none-any.whl (4.7 kB)\n",
            "Installing collected packages: tenacity, packaging, numpy, mypy-extensions, typing-inspect, marshmallow, langsmith, dataclasses-json, langchain-core, langchain-text-splitters, langchain-community, langchain\n",
            "  Attempting uninstall: tenacity\n",
            "    Found existing installation: tenacity 9.0.0\n",
            "    Uninstalling tenacity-9.0.0:\n",
            "      Successfully uninstalled tenacity-9.0.0\n",
            "  Attempting uninstall: packaging\n",
            "    Found existing installation: packaging 24.2\n",
            "    Uninstalling packaging-24.2:\n",
            "      Successfully uninstalled packaging-24.2\n",
            "  Attempting uninstall: numpy\n",
            "    Found existing installation: numpy 2.0.2\n",
            "    Uninstalling numpy-2.0.2:\n",
            "      Successfully uninstalled numpy-2.0.2\n",
            "  Attempting uninstall: langsmith\n",
            "    Found existing installation: langsmith 0.3.15\n",
            "    Uninstalling langsmith-0.3.15:\n",
            "      Successfully uninstalled langsmith-0.3.15\n",
            "  Attempting uninstall: langchain-core\n",
            "    Found existing installation: langchain-core 0.3.45\n",
            "    Uninstalling langchain-core-0.3.45:\n",
            "      Successfully uninstalled langchain-core-0.3.45\n",
            "  Attempting uninstall: langchain-text-splitters\n",
            "    Found existing installation: langchain-text-splitters 0.3.6\n",
            "    Uninstalling langchain-text-splitters-0.3.6:\n",
            "      Successfully uninstalled langchain-text-splitters-0.3.6\n",
            "  Attempting uninstall: langchain\n",
            "    Found existing installation: langchain 0.3.20\n",
            "    Uninstalling langchain-0.3.20:\n",
            "      Successfully uninstalled langchain-0.3.20\n",
            "Successfully installed dataclasses-json-0.6.7 langchain-0.1.19 langchain-community-0.0.38 langchain-core-0.1.53 langchain-text-splitters-0.0.2 langsmith-0.1.147 marshmallow-3.26.1 mypy-extensions-1.0.0 numpy-1.26.4 packaging-23.2 tenacity-8.5.0 typing-inspect-0.9.0\n",
            "Collecting langchain-openai==0.1.6\n",
            "  Downloading langchain_openai-0.1.6-py3-none-any.whl.metadata (2.5 kB)\n",
            "Requirement already satisfied: langchain-core<0.2.0,>=0.1.46 in /usr/local/lib/python3.11/dist-packages (from langchain-openai==0.1.6) (0.1.53)\n",
            "Requirement already satisfied: openai<2.0.0,>=1.24.0 in /usr/local/lib/python3.11/dist-packages (from langchain-openai==0.1.6) (1.66.3)\n",
            "Collecting tiktoken<1,>=0.5.2 (from langchain-openai==0.1.6)\n",
            "  Downloading tiktoken-0.9.0-cp311-cp311-manylinux_2_17_x86_64.manylinux2014_x86_64.whl.metadata (6.7 kB)\n",
            "Requirement already satisfied: PyYAML>=5.3 in /usr/local/lib/python3.11/dist-packages (from langchain-core<0.2.0,>=0.1.46->langchain-openai==0.1.6) (6.0.2)\n",
            "Requirement already satisfied: jsonpatch<2.0,>=1.33 in /usr/local/lib/python3.11/dist-packages (from langchain-core<0.2.0,>=0.1.46->langchain-openai==0.1.6) (1.33)\n",
            "Requirement already satisfied: langsmith<0.2.0,>=0.1.0 in /usr/local/lib/python3.11/dist-packages (from langchain-core<0.2.0,>=0.1.46->langchain-openai==0.1.6) (0.1.147)\n",
            "Requirement already satisfied: packaging<24.0,>=23.2 in /usr/local/lib/python3.11/dist-packages (from langchain-core<0.2.0,>=0.1.46->langchain-openai==0.1.6) (23.2)\n",
            "Requirement already satisfied: pydantic<3,>=1 in /usr/local/lib/python3.11/dist-packages (from langchain-core<0.2.0,>=0.1.46->langchain-openai==0.1.6) (2.10.6)\n",
            "Requirement already satisfied: tenacity<9.0.0,>=8.1.0 in /usr/local/lib/python3.11/dist-packages (from langchain-core<0.2.0,>=0.1.46->langchain-openai==0.1.6) (8.5.0)\n",
            "Requirement already satisfied: anyio<5,>=3.5.0 in /usr/local/lib/python3.11/dist-packages (from openai<2.0.0,>=1.24.0->langchain-openai==0.1.6) (4.9.0)\n",
            "Requirement already satisfied: distro<2,>=1.7.0 in /usr/local/lib/python3.11/dist-packages (from openai<2.0.0,>=1.24.0->langchain-openai==0.1.6) (1.9.0)\n",
            "Requirement already satisfied: httpx<1,>=0.23.0 in /usr/local/lib/python3.11/dist-packages (from openai<2.0.0,>=1.24.0->langchain-openai==0.1.6) (0.28.1)\n",
            "Requirement already satisfied: jiter<1,>=0.4.0 in /usr/local/lib/python3.11/dist-packages (from openai<2.0.0,>=1.24.0->langchain-openai==0.1.6) (0.9.0)\n",
            "Requirement already satisfied: sniffio in /usr/local/lib/python3.11/dist-packages (from openai<2.0.0,>=1.24.0->langchain-openai==0.1.6) (1.3.1)\n",
            "Requirement already satisfied: tqdm>4 in /usr/local/lib/python3.11/dist-packages (from openai<2.0.0,>=1.24.0->langchain-openai==0.1.6) (4.67.1)\n",
            "Requirement already satisfied: typing-extensions<5,>=4.11 in /usr/local/lib/python3.11/dist-packages (from openai<2.0.0,>=1.24.0->langchain-openai==0.1.6) (4.12.2)\n",
            "Requirement already satisfied: regex>=2022.1.18 in /usr/local/lib/python3.11/dist-packages (from tiktoken<1,>=0.5.2->langchain-openai==0.1.6) (2024.11.6)\n",
            "Requirement already satisfied: requests>=2.26.0 in /usr/local/lib/python3.11/dist-packages (from tiktoken<1,>=0.5.2->langchain-openai==0.1.6) (2.32.3)\n",
            "Requirement already satisfied: idna>=2.8 in /usr/local/lib/python3.11/dist-packages (from anyio<5,>=3.5.0->openai<2.0.0,>=1.24.0->langchain-openai==0.1.6) (3.10)\n",
            "Requirement already satisfied: certifi in /usr/local/lib/python3.11/dist-packages (from httpx<1,>=0.23.0->openai<2.0.0,>=1.24.0->langchain-openai==0.1.6) (2025.1.31)\n",
            "Requirement already satisfied: httpcore==1.* in /usr/local/lib/python3.11/dist-packages (from httpx<1,>=0.23.0->openai<2.0.0,>=1.24.0->langchain-openai==0.1.6) (1.0.7)\n",
            "Requirement already satisfied: h11<0.15,>=0.13 in /usr/local/lib/python3.11/dist-packages (from httpcore==1.*->httpx<1,>=0.23.0->openai<2.0.0,>=1.24.0->langchain-openai==0.1.6) (0.14.0)\n",
            "Requirement already satisfied: jsonpointer>=1.9 in /usr/local/lib/python3.11/dist-packages (from jsonpatch<2.0,>=1.33->langchain-core<0.2.0,>=0.1.46->langchain-openai==0.1.6) (3.0.0)\n",
            "Requirement already satisfied: orjson<4.0.0,>=3.9.14 in /usr/local/lib/python3.11/dist-packages (from langsmith<0.2.0,>=0.1.0->langchain-core<0.2.0,>=0.1.46->langchain-openai==0.1.6) (3.10.15)\n",
            "Requirement already satisfied: requests-toolbelt<2.0.0,>=1.0.0 in /usr/local/lib/python3.11/dist-packages (from langsmith<0.2.0,>=0.1.0->langchain-core<0.2.0,>=0.1.46->langchain-openai==0.1.6) (1.0.0)\n",
            "Requirement already satisfied: annotated-types>=0.6.0 in /usr/local/lib/python3.11/dist-packages (from pydantic<3,>=1->langchain-core<0.2.0,>=0.1.46->langchain-openai==0.1.6) (0.7.0)\n",
            "Requirement already satisfied: pydantic-core==2.27.2 in /usr/local/lib/python3.11/dist-packages (from pydantic<3,>=1->langchain-core<0.2.0,>=0.1.46->langchain-openai==0.1.6) (2.27.2)\n",
            "Requirement already satisfied: charset-normalizer<4,>=2 in /usr/local/lib/python3.11/dist-packages (from requests>=2.26.0->tiktoken<1,>=0.5.2->langchain-openai==0.1.6) (3.4.1)\n",
            "Requirement already satisfied: urllib3<3,>=1.21.1 in /usr/local/lib/python3.11/dist-packages (from requests>=2.26.0->tiktoken<1,>=0.5.2->langchain-openai==0.1.6) (2.3.0)\n",
            "Downloading langchain_openai-0.1.6-py3-none-any.whl (34 kB)\n",
            "Downloading tiktoken-0.9.0-cp311-cp311-manylinux_2_17_x86_64.manylinux2014_x86_64.whl (1.2 MB)\n",
            "\u001b[2K   \u001b[90m━━━━━━━━━━━━━━━━━━━━━━━━━━━━━━━━━━━━━━━━\u001b[0m \u001b[32m1.2/1.2 MB\u001b[0m \u001b[31m19.2 MB/s\u001b[0m eta \u001b[36m0:00:00\u001b[0m\n",
            "\u001b[?25hInstalling collected packages: tiktoken, langchain-openai\n",
            "Successfully installed langchain-openai-0.1.6 tiktoken-0.9.0\n",
            "Requirement already satisfied: langchain-community==0.0.38 in /usr/local/lib/python3.11/dist-packages (0.0.38)\n",
            "Requirement already satisfied: PyYAML>=5.3 in /usr/local/lib/python3.11/dist-packages (from langchain-community==0.0.38) (6.0.2)\n",
            "Requirement already satisfied: SQLAlchemy<3,>=1.4 in /usr/local/lib/python3.11/dist-packages (from langchain-community==0.0.38) (2.0.39)\n",
            "Requirement already satisfied: aiohttp<4.0.0,>=3.8.3 in /usr/local/lib/python3.11/dist-packages (from langchain-community==0.0.38) (3.11.14)\n",
            "Requirement already satisfied: dataclasses-json<0.7,>=0.5.7 in /usr/local/lib/python3.11/dist-packages (from langchain-community==0.0.38) (0.6.7)\n",
            "Requirement already satisfied: langchain-core<0.2.0,>=0.1.52 in /usr/local/lib/python3.11/dist-packages (from langchain-community==0.0.38) (0.1.53)\n",
            "Requirement already satisfied: langsmith<0.2.0,>=0.1.0 in /usr/local/lib/python3.11/dist-packages (from langchain-community==0.0.38) (0.1.147)\n",
            "Requirement already satisfied: numpy<2,>=1 in /usr/local/lib/python3.11/dist-packages (from langchain-community==0.0.38) (1.26.4)\n",
            "Requirement already satisfied: requests<3,>=2 in /usr/local/lib/python3.11/dist-packages (from langchain-community==0.0.38) (2.32.3)\n",
            "Requirement already satisfied: tenacity<9.0.0,>=8.1.0 in /usr/local/lib/python3.11/dist-packages (from langchain-community==0.0.38) (8.5.0)\n",
            "Requirement already satisfied: aiohappyeyeballs>=2.3.0 in /usr/local/lib/python3.11/dist-packages (from aiohttp<4.0.0,>=3.8.3->langchain-community==0.0.38) (2.6.1)\n",
            "Requirement already satisfied: aiosignal>=1.1.2 in /usr/local/lib/python3.11/dist-packages (from aiohttp<4.0.0,>=3.8.3->langchain-community==0.0.38) (1.3.2)\n",
            "Requirement already satisfied: attrs>=17.3.0 in /usr/local/lib/python3.11/dist-packages (from aiohttp<4.0.0,>=3.8.3->langchain-community==0.0.38) (25.3.0)\n",
            "Requirement already satisfied: frozenlist>=1.1.1 in /usr/local/lib/python3.11/dist-packages (from aiohttp<4.0.0,>=3.8.3->langchain-community==0.0.38) (1.5.0)\n",
            "Requirement already satisfied: multidict<7.0,>=4.5 in /usr/local/lib/python3.11/dist-packages (from aiohttp<4.0.0,>=3.8.3->langchain-community==0.0.38) (6.2.0)\n",
            "Requirement already satisfied: propcache>=0.2.0 in /usr/local/lib/python3.11/dist-packages (from aiohttp<4.0.0,>=3.8.3->langchain-community==0.0.38) (0.3.0)\n",
            "Requirement already satisfied: yarl<2.0,>=1.17.0 in /usr/local/lib/python3.11/dist-packages (from aiohttp<4.0.0,>=3.8.3->langchain-community==0.0.38) (1.18.3)\n",
            "Requirement already satisfied: marshmallow<4.0.0,>=3.18.0 in /usr/local/lib/python3.11/dist-packages (from dataclasses-json<0.7,>=0.5.7->langchain-community==0.0.38) (3.26.1)\n",
            "Requirement already satisfied: typing-inspect<1,>=0.4.0 in /usr/local/lib/python3.11/dist-packages (from dataclasses-json<0.7,>=0.5.7->langchain-community==0.0.38) (0.9.0)\n",
            "Requirement already satisfied: jsonpatch<2.0,>=1.33 in /usr/local/lib/python3.11/dist-packages (from langchain-core<0.2.0,>=0.1.52->langchain-community==0.0.38) (1.33)\n",
            "Requirement already satisfied: packaging<24.0,>=23.2 in /usr/local/lib/python3.11/dist-packages (from langchain-core<0.2.0,>=0.1.52->langchain-community==0.0.38) (23.2)\n",
            "Requirement already satisfied: pydantic<3,>=1 in /usr/local/lib/python3.11/dist-packages (from langchain-core<0.2.0,>=0.1.52->langchain-community==0.0.38) (2.10.6)\n",
            "Requirement already satisfied: httpx<1,>=0.23.0 in /usr/local/lib/python3.11/dist-packages (from langsmith<0.2.0,>=0.1.0->langchain-community==0.0.38) (0.28.1)\n",
            "Requirement already satisfied: orjson<4.0.0,>=3.9.14 in /usr/local/lib/python3.11/dist-packages (from langsmith<0.2.0,>=0.1.0->langchain-community==0.0.38) (3.10.15)\n",
            "Requirement already satisfied: requests-toolbelt<2.0.0,>=1.0.0 in /usr/local/lib/python3.11/dist-packages (from langsmith<0.2.0,>=0.1.0->langchain-community==0.0.38) (1.0.0)\n",
            "Requirement already satisfied: charset-normalizer<4,>=2 in /usr/local/lib/python3.11/dist-packages (from requests<3,>=2->langchain-community==0.0.38) (3.4.1)\n",
            "Requirement already satisfied: idna<4,>=2.5 in /usr/local/lib/python3.11/dist-packages (from requests<3,>=2->langchain-community==0.0.38) (3.10)\n",
            "Requirement already satisfied: urllib3<3,>=1.21.1 in /usr/local/lib/python3.11/dist-packages (from requests<3,>=2->langchain-community==0.0.38) (2.3.0)\n",
            "Requirement already satisfied: certifi>=2017.4.17 in /usr/local/lib/python3.11/dist-packages (from requests<3,>=2->langchain-community==0.0.38) (2025.1.31)\n",
            "Requirement already satisfied: greenlet!=0.4.17 in /usr/local/lib/python3.11/dist-packages (from SQLAlchemy<3,>=1.4->langchain-community==0.0.38) (3.1.1)\n",
            "Requirement already satisfied: typing-extensions>=4.6.0 in /usr/local/lib/python3.11/dist-packages (from SQLAlchemy<3,>=1.4->langchain-community==0.0.38) (4.12.2)\n",
            "Requirement already satisfied: anyio in /usr/local/lib/python3.11/dist-packages (from httpx<1,>=0.23.0->langsmith<0.2.0,>=0.1.0->langchain-community==0.0.38) (4.9.0)\n",
            "Requirement already satisfied: httpcore==1.* in /usr/local/lib/python3.11/dist-packages (from httpx<1,>=0.23.0->langsmith<0.2.0,>=0.1.0->langchain-community==0.0.38) (1.0.7)\n",
            "Requirement already satisfied: h11<0.15,>=0.13 in /usr/local/lib/python3.11/dist-packages (from httpcore==1.*->httpx<1,>=0.23.0->langsmith<0.2.0,>=0.1.0->langchain-community==0.0.38) (0.14.0)\n",
            "Requirement already satisfied: jsonpointer>=1.9 in /usr/local/lib/python3.11/dist-packages (from jsonpatch<2.0,>=1.33->langchain-core<0.2.0,>=0.1.52->langchain-community==0.0.38) (3.0.0)\n",
            "Requirement already satisfied: annotated-types>=0.6.0 in /usr/local/lib/python3.11/dist-packages (from pydantic<3,>=1->langchain-core<0.2.0,>=0.1.52->langchain-community==0.0.38) (0.7.0)\n",
            "Requirement already satisfied: pydantic-core==2.27.2 in /usr/local/lib/python3.11/dist-packages (from pydantic<3,>=1->langchain-core<0.2.0,>=0.1.52->langchain-community==0.0.38) (2.27.2)\n",
            "Requirement already satisfied: mypy-extensions>=0.3.0 in /usr/local/lib/python3.11/dist-packages (from typing-inspect<1,>=0.4.0->dataclasses-json<0.7,>=0.5.7->langchain-community==0.0.38) (1.0.0)\n",
            "Requirement already satisfied: sniffio>=1.1 in /usr/local/lib/python3.11/dist-packages (from anyio->httpx<1,>=0.23.0->langsmith<0.2.0,>=0.1.0->langchain-community==0.0.38) (1.3.1)\n"
          ]
        }
      ],
      "source": [
        "!pip install langchain==0.1.19\n",
        "!pip install langchain-openai==0.1.6\n",
        "!pip install langchain-community==0.0.38"
      ]
    },
    {
      "cell_type": "code",
      "source": [
        "from getpass import getpass\n",
        "OPENAI_KEY = getpass(\"Please enter your OpenAI API key here:\")"
      ],
      "metadata": {
        "colab": {
          "base_uri": "https://localhost:8080/"
        },
        "id": "3Dp7iGNAkfqs",
        "outputId": "b1f49425-3457-442a-95af-e0b2991eb812"
      },
      "execution_count": 3,
      "outputs": [
        {
          "name": "stdout",
          "output_type": "stream",
          "text": [
            "Please enter your OpenAI API key here:··········\n"
          ]
        }
      ]
    },
    {
      "cell_type": "code",
      "source": [
        "import os\n",
        "os.environ[\"OPENAI_API_KEY\"] = OPENAI_KEY"
      ],
      "metadata": {
        "id": "N07sQlDvna2a"
      },
      "execution_count": 4,
      "outputs": []
    },
    {
      "cell_type": "code",
      "source": [
        "from langchain_core.prompts import ChatPromptTemplate\n",
        "from langchain_openai import ChatOpenAI"
      ],
      "metadata": {
        "id": "GPUqQo_fnn6o"
      },
      "execution_count": 5,
      "outputs": []
    },
    {
      "cell_type": "code",
      "source": [
        "chatgpt = ChatOpenAI(model_name = \"gpt-3.5-turbo\", temperature = 0.0)"
      ],
      "metadata": {
        "id": "CaXpURjwn6JG"
      },
      "execution_count": 6,
      "outputs": []
    },
    {
      "cell_type": "markdown",
      "source": [
        "# Objective\n",
        "You are building an AI system to be able to look at customer reviews and do some complex analysis. For each review get ChatGPT to do the following:\n",
        "- Summarize the review: The summary should be at most 3 lines\n",
        "- Highlight both the positives and negatives\n",
        "- Display the overall sentiment of the review (positive, negative, neutral)\n",
        "- Display a list of 3-5 emotions expressed by the customer in the review\n",
        "- If the snetiment is possitive or neutral write an email and thank you for the review\n",
        "- If the sentiment is negative apologize and write an email with an appropriate response\n",
        "\n",
        "Try to get the response in a nice structured format using an output *parser*"
      ],
      "metadata": {
        "id": "So7P81hUoKyo"
      }
    },
    {
      "cell_type": "code",
      "source": [
        "reviews = [\n",
        "    f\"\"\"We purchased a property here and I would say we are pretty much impressed with the design and quality of the apartment. Fully ventilated, no common wall or opposite main doors. Every unit is isolated and spacious. Pakka vastu compliant.They have all the basic amenities and decent prices.\"\"\",\n",
        "    f\"\"\"Purchased an Unit here. Mr. Kiran - Sales manager, Mr. Raghu and Mr. Pratap - Sales executives really helped us in all the facilities that were requested. Decent prices near electronic city with no common walls.\"\"\",\n",
        "    f\"\"\"A comfy place for families specially with kids and elders, ALL in ONE combo place to feel spacious despite being located among the crowdiest hearts of Electronic city..amazed to see variety of cultural celebrations hosted by various organizers who themselve are residents as well..A look upto place!!!\"\"\",\n",
        "    f\"\"\"Note I stay nearby and not in ajmera anymore....\n",
        "\n",
        "Ajmera Infinity Apartments, situated on Neeladri Road in Electronic City, left an indelible mark on my living experience during my tenancy as a bachelor sharing a spacious 3 BHK flat. The community's ethos is characterized by a forward-thinking approach among both flat owners and residents, fostering a positive and harmonious living environment.\n",
        "\n",
        "Despite the imposition of numerous rules, it became evident that these regulations were not arbitrary but essential for managing the sprawling complex comprising over 1000 flats. The comprehensive set of rules, although at times seemingly stringent, contributed significantly to the overall well-being and cohesiveness of the community. The adherence to such guidelines by the residents and the proactive role played by the management created an atmosphere conducive to a comfortable and secure living experience.\n",
        "\n",
        "One of the standout features of Ajmera Infinity is the array of facilities available to residents. The meticulously maintained grounds provide a serene escape within the complex, complemented by well-kept swimming pools that offer a refreshing respite. The presence of gyms encourages a healthy lifestyle, contributing to the overall well-being of the residents. Additionally, the convenience of an on-site market within the premises adds a layer of accessibility and community integration, making daily life more convenient.\n",
        "\n",
        "Having recently moved nearby, I continue to witness the commendable efforts undertaken by the management to uphold the high standards set by Ajmera Infinity. The commitment to maintaining these facilities underscores a dedication to resident satisfaction. The proactive measures implemented by the management reflect not only a commitment to infrastructure but also a genuine concern for the quality of life enjoyed by the community.\n",
        "\n",
        "Surrounded by a plethora of eateries, Ajmera Infinity Apartments offers a diverse culinary landscape for its residents. However, the only notable downside pertains to the traffic congestion outside the complex. While this could be a temporary inconvenience, it is optimistic to anticipate improvements in the future. Exploring alternatives, such as utilizing back gates or other entrances, might alleviate the traffic concerns and enhance the overall accessibility for the residents.\n",
        "\n",
        "In conclusion, Ajmera Infinity Apartments at Neeladri Road stands as a testament to the positive synergy between a well-managed community, thoughtful facilities, and a forward-thinking approach, making it a commendable choice for those seeking a secure and enriching living experience in Electronic City.\"\"\",\n",
        "    f\"\"\"I went their to see the flat for rent. But the behavior of gaurds are too disrespectful. Not only once but three times in a single visit the gaurds behaved too authorative. No politeness, no respect for guests. I simply blocked this society to be considered ever for my stay. Never want my guest to feel the way I felt.\"\"\",\n",
        "    f\"\"\"Had been to the shopping complex for the first time and parked the car inside the premises. While exiting there is just an arrow marked on the wall. I thought that is the direction towards the exit. Surprisingly, a water tanker entered from the \"so called exit gate\" and upon seeing my car, the security guard started shouting at me asking me to remove my car and exit from the other gate(from where I had entered). I also shouted at him in retaliation asking where the exit sign board was. My question to the management is that when you all have not mentioned anything anywhere, then why don't you all ask your guards to guide us instead of shouting ? Or do you all think that visitors are omniscient beings to know everything ? How are we supposed to know ? This is the fault of the management and not the security guard. At that moment I shouted at him but later realized that it is actually not his fault and not mine either, instead I should have blasted the management if they would have been around.\"\"\",\n",
        "    f\"\"\"I have been living at the Ajmera apartment for some time now, and while the apartment itself is quite good, I wanted to share a concern regarding the property manager, Chandru.\n",
        "\n",
        "It has come to my attention that Chandru is manipulating the rent within the society. Even when the house owners do not wish to increase the rent, Chandru pressures them to do so and then informs tenants that it was the owner's decision. He even goes as far as to claim that he convinced the owner to reduce the rent, which is far from the truth.\n",
        "\n",
        "If you're considering renting in Ajmera, I would highly recommend avoiding Chandru and instead, directly contacting the property owners or exploring other options.\n",
        "\n",
        "Hope this feedback helps prospective tenants in making an informed decision.\"\"\",\n",
        "    f\"\"\"Difficult to reach if you do not take the toll road. Entry exit too adjacent to the commercial complex, Google maps may confuse you. Try to park near the tower visiting. Flats are good, big society, lot of open spaces\"\"\",\n",
        "    f\"\"\"Amazing security. Everyone is allowed to go in without any checks and approvals. Orders incorrectly going to Ajmera Infinity also allowed in and security/residents just keep it. Will think twice before living in a security lapsed complex like that.\"\"\",\n",
        "    f\"\"\"While I am looking for rent in ajmera Infinity found more than 30 flats in Magic Bricks showing with fake owner identity and they are asking token amount without seeing the flat, same concern I raised to rental manager in Ajmera but he is not at all responding, please look in to this serious issue and don't spoil good impression about Ajmera Infinity\"\"\"\n",
        "]\n",
        "\n",
        "len(reviews)"
      ],
      "metadata": {
        "colab": {
          "base_uri": "https://localhost:8080/"
        },
        "id": "YBqDDx9goFhE",
        "outputId": "4ed6949a-e761-4a56-dba4-e9981b199a46"
      },
      "execution_count": 8,
      "outputs": [
        {
          "output_type": "execute_result",
          "data": {
            "text/plain": [
              "10"
            ]
          },
          "metadata": {},
          "execution_count": 8
        }
      ]
    },
    {
      "cell_type": "code",
      "source": [
        "from langchain_core.prompts import PromptTemplate\n",
        "from langchain_core.output_parsers import PydanticOutputParser\n",
        "from langchain_core.pydantic_v1 import BaseModel, Field\n",
        "\n",
        "#Defining the desired data structure - like a python data class\n",
        "class ReviewAnalysisResponse(BaseModel):\n",
        "  summary: str = Field(description = \"A brief summary of the customer review with maximum 3 lines\")\n",
        "  positives: list = Field(description= \"A list showing the positives mentioned by the customer in the review if any - maximum 3 points\")\n",
        "  negatives: list = Field(description= \"A list showing the negatives mentioned by the customer in the review if any - maximum 3 points\")\n",
        "  sentiment: str = Field(description=\"One word showing the sentiment of the review - positive, negative or neutral\")\n",
        "  emotions : list = Field(description=\"A list of 3 - 5 emotions expressed by the customer in the review\")\n",
        "  email: str = Field(description=\"Detailed email to the customer based on the sentiment\")\n",
        "\n",
        "# Set up a parser + inject instructions into the prompt template.\n",
        "parser = PydanticOutputParser(pydantic_object=ReviewAnalysisResponse)"
      ],
      "metadata": {
        "id": "w9mtW6QvrYhw"
      },
      "execution_count": 9,
      "outputs": []
    },
    {
      "cell_type": "code",
      "source": [
        "# create the final propt with formatting instructions from the parser\n",
        "prompt_txt = \"\"\"\n",
        "            Analyze the given customer review and generate the response based on the instructions mentioned below in the format instructions.\n",
        "            Also remember to write a detailed email response for the email field based on these conditions:\n",
        "            - email should be addressed to Dear Customer and signed with Service Agent\n",
        "            - thank them if the review is positive or neutral\n",
        "            - apologize if the review is negative\n",
        "\n",
        "            Format Instructions:\n",
        "            {format_instructions}\n",
        "\n",
        "            Review:\n",
        "            {review}\n",
        "            \"\"\"\n",
        "\n",
        "prompt = PromptTemplate(\n",
        "    template = prompt_txt,\n",
        "    input_variables=[\"review\"],\n",
        "    partial_variables={\"format_instructions\": parser.get_format_instructions()}\n",
        ")"
      ],
      "metadata": {
        "id": "OiyIl6lfv-kZ"
      },
      "execution_count": 10,
      "outputs": []
    },
    {
      "cell_type": "code",
      "source": [
        "# create a simple LCEL chain to take the prompt, pass it to the LLM, enforce response format using the parser\n",
        "chain = (prompt\n",
        "         |\n",
        "         chatgpt\n",
        "         |\n",
        "         parser\n",
        "         )"
      ],
      "metadata": {
        "id": "0ISLetPSxz7I"
      },
      "execution_count": 11,
      "outputs": []
    },
    {
      "cell_type": "code",
      "source": [
        "reviews_formatted = [{\"review\": review} for review in reviews]\n",
        "reviews_formatted[0]"
      ],
      "metadata": {
        "colab": {
          "base_uri": "https://localhost:8080/"
        },
        "id": "3ugK5GpcyNjK",
        "outputId": "8c1de4f9-eb3d-4ecf-ad5f-c17cf4c095cf"
      },
      "execution_count": 12,
      "outputs": [
        {
          "output_type": "execute_result",
          "data": {
            "text/plain": [
              "{'review': 'We purchased a property here and I would say we are pretty much impressed with the design and quality of the apartment. Fully ventilated, no common wall or opposite main doors. Every unit is isolated and spacious. Pakka vastu compliant.They have all the basic amenities and decent prices.'}"
            ]
          },
          "metadata": {},
          "execution_count": 12
        }
      ]
    },
    {
      "cell_type": "code",
      "source": [
        "responses = chain.map().invoke(reviews_formatted)\n",
        "responses[0]"
      ],
      "metadata": {
        "colab": {
          "base_uri": "https://localhost:8080/"
        },
        "id": "-8wmIE_XycvE",
        "outputId": "30ed4a85-7e56-4feb-f34c-066eb95705b6"
      },
      "execution_count": 13,
      "outputs": [
        {
          "output_type": "execute_result",
          "data": {
            "text/plain": [
              "ReviewAnalysisResponse(summary='Impressed with the design and quality of the apartment', positives=['Fully ventilated', 'No common walls or opposite main doors', 'Isolated and spacious units'], negatives=[], sentiment='positive', emotions=['Impressed', 'Satisfied', 'Happy'], email='Dear Customer, Thank you for your positive review! We are delighted to hear that you are impressed with the design and quality of the apartment. Your satisfaction is our top priority. If you have any further feedback or need assistance, please feel free to reach out to us. Thank you for choosing our property. Sincerely, Service Agent')"
            ]
          },
          "metadata": {},
          "execution_count": 13
        }
      ]
    },
    {
      "cell_type": "code",
      "source": [
        "for response in responses:\n",
        "  for k, v in response.dict().items():\n",
        "    print(f\"{k}:\\n{v}\")\n",
        "  print(\"=============\")\n",
        "  print(\"\\n\")"
      ],
      "metadata": {
        "colab": {
          "base_uri": "https://localhost:8080/"
        },
        "id": "L4iU3hRDypKu",
        "outputId": "20fbbcc2-ea33-4b72-941c-8e30f8c2194f"
      },
      "execution_count": 14,
      "outputs": [
        {
          "output_type": "stream",
          "name": "stdout",
          "text": [
            "summary:\n",
            "Impressed with the design and quality of the apartment\n",
            "positives:\n",
            "['Fully ventilated', 'No common walls or opposite main doors', 'Isolated and spacious units']\n",
            "negatives:\n",
            "[]\n",
            "sentiment:\n",
            "positive\n",
            "emotions:\n",
            "['Impressed', 'Satisfied', 'Happy']\n",
            "email:\n",
            "Dear Customer, Thank you for your positive review! We are delighted to hear that you are impressed with the design and quality of the apartment. Your satisfaction is our top priority. If you have any further feedback or need assistance, please feel free to reach out to us. Thank you for choosing our property. Sincerely, Service Agent\n",
            "=============\n",
            "\n",
            "\n",
            "summary:\n",
            "Positive review highlighting the helpful sales team and good location\n",
            "positives:\n",
            "['Helpful sales team led by Mr. Kiran', 'Good location near electronic city', 'Decent prices']\n",
            "negatives:\n",
            "[]\n",
            "sentiment:\n",
            "positive\n",
            "emotions:\n",
            "['satisfied', 'grateful', 'impressed']\n",
            "email:\n",
            "Dear Customer, Thank you for taking the time to share your positive experience with us. We are delighted to hear that our sales team, especially Mr. Kiran, Mr. Raghu, and Mr. Pratap, were able to assist you effectively. We are also glad that you found our location near electronic city convenient and our prices reasonable. Your satisfaction is our top priority, and we look forward to serving you again in the future. Thank you for choosing us. \n",
            "\n",
            "Sincerely, \n",
            "Service Agent\n",
            "=============\n",
            "\n",
            "\n",
            "summary:\n",
            "A comfy place for families with kids and elders, variety of cultural celebrations, spacious despite being in a crowded area\n",
            "positives:\n",
            "['Comfy place for families', 'Variety of cultural celebrations', 'Spacious despite being in a crowded area']\n",
            "negatives:\n",
            "[]\n",
            "sentiment:\n",
            "positive\n",
            "emotions:\n",
            "['Amazed', 'Happy', 'Excited']\n",
            "email:\n",
            "Dear Customer, Thank you for your positive review! We are thrilled to hear that you enjoyed our family-friendly atmosphere and the variety of cultural celebrations. Your feedback is greatly appreciated. We look forward to welcoming you back soon. \n",
            "\n",
            "Sincerely, \n",
            "Service Agent\n",
            "=============\n",
            "\n",
            "\n",
            "summary:\n",
            "Positive review highlighting the well-managed community and thoughtful facilities at Ajmera Infinity Apartments\n",
            "positives:\n",
            "['Well-maintained facilities', 'Community integration', 'Diverse culinary landscape']\n",
            "negatives:\n",
            "['Traffic congestion outside the complex']\n",
            "sentiment:\n",
            "positive\n",
            "emotions:\n",
            "['Satisfaction', 'Appreciation', 'Optimism']\n",
            "email:\n",
            "Dear Customer, \n",
            "\n",
            "Thank you for sharing your positive review of your experience at Ajmera Infinity Apartments. We are delighted to hear that you enjoyed the well-maintained facilities, community integration, and diverse culinary landscape. Your feedback is truly appreciated and serves as a testament to our commitment to resident satisfaction. \n",
            "\n",
            "We have taken note of your concern regarding the traffic congestion outside the complex and will explore ways to address this issue to enhance the overall accessibility for our residents. Your satisfaction is our priority, and we are dedicated to continuously improving your living experience at Ajmera Infinity Apartments. \n",
            "\n",
            "Thank you once again for your valuable feedback. \n",
            "\n",
            "Best regards, \n",
            "Service Agent\n",
            "=============\n",
            "\n",
            "\n",
            "summary:\n",
            "Customer had a negative experience with disrespectful behavior of guards during a flat viewing\n",
            "positives:\n",
            "[]\n",
            "negatives:\n",
            "['Disrespectful behavior of guards', 'Lack of politeness and respect', 'Feeling unwelcome as a guest']\n",
            "sentiment:\n",
            "negative\n",
            "emotions:\n",
            "['Disrespected', 'Unwelcome', 'Disappointed']\n",
            "email:\n",
            "Dear Customer, We are truly sorry to hear about your negative experience with the behavior of the guards during your visit to view the flat. We apologize for the disrespectful and unwelcoming treatment you received. Your feedback is valuable to us and we will address this issue with the guards to ensure such incidents do not occur in the future. We appreciate you bringing this to our attention. Thank you for sharing your concerns. Sincerely, Service Agent\n",
            "=============\n",
            "\n",
            "\n",
            "summary:\n",
            "Customer had a negative experience at the shopping complex due to lack of proper signage and guidance.\n",
            "positives:\n",
            "[]\n",
            "negatives:\n",
            "['Lack of proper signage for exit', 'Security guard shouting instead of guiding', 'Feeling of confusion and frustration']\n",
            "sentiment:\n",
            "negative\n",
            "emotions:\n",
            "['Confusion', 'Frustration', 'Disappointment']\n",
            "email:\n",
            "Dear Customer, We are truly sorry to hear about your negative experience at our shopping complex. We apologize for the lack of proper signage and the behavior of our security guard. Your feedback is valuable to us and we will work on improving our guidance for visitors. Thank you for bringing this to our attention. Sincerely, Service Agent\n",
            "=============\n",
            "\n",
            "\n",
            "summary:\n",
            "Positive review with a concern about the property manager\n",
            "positives:\n",
            "['Apartment quality is good']\n",
            "negatives:\n",
            "['Property manager manipulating rent']\n",
            "sentiment:\n",
            "negative\n",
            "emotions:\n",
            "['concerned', 'disappointed', 'cautious']\n",
            "email:\n",
            "Dear Customer, Thank you for sharing your feedback about your experience at Ajmera apartment. We are glad to hear that you find the apartment quality good. We sincerely apologize for the inconvenience caused by the behavior of the property manager, Chandru. We take such concerns seriously and will investigate the issue further. Your feedback is valuable in helping us improve our services. Thank you for bringing this to our attention. Sincerely, Service Agent\n",
            "=============\n",
            "\n",
            "\n",
            "summary:\n",
            "Customer review highlights difficulty in reaching the location without taking the toll road and confusion with Google Maps directions. Positive feedback on the quality of flats, spacious society, and open spaces.\n",
            "positives:\n",
            "['Good quality flats', 'Spacious society', 'Lots of open spaces']\n",
            "negatives:\n",
            "['Difficulty in reaching without toll road', 'Confusion with Google Maps directions']\n",
            "sentiment:\n",
            "neutral\n",
            "emotions:\n",
            "['Confusion', 'Satisfaction', 'Appreciation']\n",
            "email:\n",
            "Dear Customer, Thank you for sharing your feedback with us. We are glad to hear that you found the quality of flats, spacious society, and open spaces to your liking. We apologize for the difficulties you faced in reaching the location without taking the toll road and the confusion with Google Maps directions. Your input is valuable to us as we strive to improve our services. Thank you for choosing us. Sincerely, Service Agent\n",
            "=============\n",
            "\n",
            "\n",
            "summary:\n",
            "Security concerns and lack of checks at the complex\n",
            "positives:\n",
            "['None']\n",
            "negatives:\n",
            "['Lack of security checks', 'Incorrect delivery handling']\n",
            "sentiment:\n",
            "negative\n",
            "emotions:\n",
            "['Concerned', 'Disappointed']\n",
            "email:\n",
            "Dear Customer, \n",
            "\n",
            "We are truly sorry to hear about your experience with the security measures at our complex. Your feedback is valuable to us and we apologize for any inconvenience caused. We will address the issues you have raised and work towards improving our security protocols. Thank you for bringing this to our attention. \n",
            "\n",
            "Best regards, \n",
            "Service Agent\n",
            "=============\n",
            "\n",
            "\n",
            "summary:\n",
            "Customer expressed concern about fake owner identity and lack of response from rental manager at Ajmera Infinity\n",
            "positives:\n",
            "[]\n",
            "negatives:\n",
            "['Fake owner identity', 'Lack of response from rental manager', 'Asking token amount without seeing the flat']\n",
            "sentiment:\n",
            "negative\n",
            "emotions:\n",
            "['frustration', 'dissatisfaction', 'concern']\n",
            "email:\n",
            "Dear Customer, We are truly sorry to hear about your experience with fake owner identities and the lack of response from our rental manager at Ajmera Infinity. Your feedback is valuable to us and we will investigate this matter further to ensure such incidents do not occur in the future. We apologize for any inconvenience caused and appreciate you bringing this to our attention. Thank you for your feedback. Sincerely, Service Agent\n",
            "=============\n",
            "\n",
            "\n"
          ]
        }
      ]
    },
    {
      "cell_type": "code",
      "source": [
        "import pandas as pd\n",
        "\n",
        "pd.DataFrame(response.dict() for response in responses)"
      ],
      "metadata": {
        "id": "IBWSHjvuzKcy"
      },
      "execution_count": null,
      "outputs": []
    },
    {
      "cell_type": "code",
      "source": [],
      "metadata": {
        "id": "hUvVkKkZzfvN"
      },
      "execution_count": null,
      "outputs": []
    }
  ]
}